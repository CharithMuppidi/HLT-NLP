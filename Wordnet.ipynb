{
  "nbformat": 4,
  "nbformat_minor": 0,
  "metadata": {
    "colab": {
      "provenance": [],
      "collapsed_sections": [],
      "authorship_tag": "ABX9TyMDVoABuSATFEqtkqu3XIN1",
      "include_colab_link": true
    },
    "kernelspec": {
      "name": "python3",
      "display_name": "Python 3"
    },
    "language_info": {
      "name": "python"
    }
  },
  "cells": [
    {
      "cell_type": "markdown",
      "metadata": {
        "id": "view-in-github",
        "colab_type": "text"
      },
      "source": [
        "<a href=\"https://colab.research.google.com/github/NoStracts/HLT-NLP/blob/main/Wordnet.ipynb\" target=\"_parent\"><img src=\"https://colab.research.google.com/assets/colab-badge.svg\" alt=\"Open In Colab\"/></a>"
      ]
    },
    {
      "cell_type": "markdown",
      "source": [
        "# Wordnet"
      ],
      "metadata": {
        "id": "fdesjLsCAyWv"
      }
    },
    {
      "cell_type": "markdown",
      "source": [
        "## Part 1"
      ],
      "metadata": {
        "id": "vqXLL5oVOhLr"
      }
    },
    {
      "cell_type": "markdown",
      "source": [
        "Wordnet is a project started by Princeton psycologiest George Miller in the 1980s to hierarchically organize nouns, verbs, adjectives and adverbs. The main relation between words is synonymy, meaning that words are groups into sets of synonyms calls synsets."
      ],
      "metadata": {
        "id": "Kvlft-tDAuh4"
      }
    },
    {
      "cell_type": "markdown",
      "source": [
        "## Part 2"
      ],
      "metadata": {
        "id": "WvUcVvK5Ojsc"
      }
    },
    {
      "cell_type": "code",
      "execution_count": 64,
      "metadata": {
        "colab": {
          "base_uri": "https://localhost:8080/",
          "height": 0
        },
        "id": "vQGlNzFZ__tH",
        "outputId": "e32e305a-9a5e-49f9-f04b-afa077fe619a"
      },
      "outputs": [
        {
          "output_type": "execute_result",
          "data": {
            "text/plain": [
              "[Synset('house.n.01'),\n",
              " Synset('firm.n.01'),\n",
              " Synset('house.n.03'),\n",
              " Synset('house.n.04'),\n",
              " Synset('house.n.05'),\n",
              " Synset('house.n.06'),\n",
              " Synset('house.n.07'),\n",
              " Synset('sign_of_the_zodiac.n.01'),\n",
              " Synset('house.n.09'),\n",
              " Synset('family.n.01'),\n",
              " Synset('theater.n.01'),\n",
              " Synset('house.n.12'),\n",
              " Synset('house.v.01'),\n",
              " Synset('house.v.02')]"
            ]
          },
          "metadata": {},
          "execution_count": 64
        }
      ],
      "source": [
        "import nltk\n",
        "from nltk.corpus import wordnet as wn\n",
        "\n",
        "wn.synsets('house')"
      ]
    },
    {
      "cell_type": "markdown",
      "source": [
        "## Part 3"
      ],
      "metadata": {
        "id": "durJFkjdOleN"
      }
    },
    {
      "cell_type": "code",
      "source": [
        "firm = wn.synset('firm.n.01')\n",
        "print(firm.definition())\n",
        "print(firm.examples())\n",
        "print(firm.lemmas())\n",
        "hyp = lambda s: s.hypernyms()\n",
        "list(firm.closure(hyp))"
      ],
      "metadata": {
        "colab": {
          "base_uri": "https://localhost:8080/",
          "height": 0
        },
        "id": "L-l36tXOGkQZ",
        "outputId": "ae6e4d27-a58e-4232-8bf0-fa02ff926008"
      },
      "execution_count": 65,
      "outputs": [
        {
          "output_type": "stream",
          "name": "stdout",
          "text": [
            "the members of a business organization that owns or operates one or more establishments\n",
            "['he worked for a brokerage house']\n",
            "[Lemma('firm.n.01.firm'), Lemma('firm.n.01.house'), Lemma('firm.n.01.business_firm')]\n"
          ]
        },
        {
          "output_type": "execute_result",
          "data": {
            "text/plain": [
              "[Synset('business.n.01'),\n",
              " Synset('enterprise.n.02'),\n",
              " Synset('organization.n.01'),\n",
              " Synset('social_group.n.01'),\n",
              " Synset('group.n.01'),\n",
              " Synset('abstraction.n.06'),\n",
              " Synset('entity.n.01')]"
            ]
          },
          "metadata": {},
          "execution_count": 65
        }
      ]
    },
    {
      "cell_type": "markdown",
      "source": [
        "How Wordnet's hierarchy works is that hypernyms sit towrds the top while hyponyms sit towards the bottom. Entity is the top most synset for all nouns in Wordnet. "
      ],
      "metadata": {
        "id": "r6tMJJXbP9Wn"
      }
    },
    {
      "cell_type": "markdown",
      "source": [
        "## Part 4"
      ],
      "metadata": {
        "id": "xN-atzGJY8N-"
      }
    },
    {
      "cell_type": "code",
      "source": [
        "print(firm.hypernyms())\n",
        "print(firm.hyponyms())\n",
        "print(firm.part_meronyms())\n",
        "print(firm.part_meronyms())\n",
        "print(firm.lemmas()[0].antonyms())\n",
        "print(firm.lemmas()[1].antonyms())\n",
        "print(firm.lemmas()[2].antonyms())"
      ],
      "metadata": {
        "colab": {
          "base_uri": "https://localhost:8080/",
          "height": 0
        },
        "id": "M10ULL4kXsgW",
        "outputId": "b521dbe9-5a62-4a31-ffa4-5e69f8b2a58c"
      },
      "execution_count": 66,
      "outputs": [
        {
          "output_type": "stream",
          "name": "stdout",
          "text": [
            "[Synset('business.n.01')]\n",
            "[Synset('accounting_firm.n.01'), Synset('auction_house.n.01'), Synset('consulting_firm.n.01'), Synset('corporation.n.01'), Synset('dealer.n.02'), Synset('law_firm.n.01'), Synset('publisher.n.01')]\n",
            "[]\n",
            "[]\n",
            "[]\n",
            "[]\n",
            "[]\n"
          ]
        }
      ]
    },
    {
      "cell_type": "markdown",
      "source": [
        "## Part 5"
      ],
      "metadata": {
        "id": "CkzVKFdhcZEw"
      }
    },
    {
      "cell_type": "code",
      "source": [
        "wn.synsets('run')"
      ],
      "metadata": {
        "colab": {
          "base_uri": "https://localhost:8080/",
          "height": 0
        },
        "id": "ns-P-i6-ciKK",
        "outputId": "a9bb3b76-6618-44de-c9fa-2f889a729ae6"
      },
      "execution_count": 67,
      "outputs": [
        {
          "output_type": "execute_result",
          "data": {
            "text/plain": [
              "[Synset('run.n.01'),\n",
              " Synset('test.n.05'),\n",
              " Synset('footrace.n.01'),\n",
              " Synset('streak.n.01'),\n",
              " Synset('run.n.05'),\n",
              " Synset('run.n.06'),\n",
              " Synset('run.n.07'),\n",
              " Synset('run.n.08'),\n",
              " Synset('run.n.09'),\n",
              " Synset('run.n.10'),\n",
              " Synset('rivulet.n.01'),\n",
              " Synset('political_campaign.n.01'),\n",
              " Synset('run.n.13'),\n",
              " Synset('discharge.n.06'),\n",
              " Synset('run.n.15'),\n",
              " Synset('run.n.16'),\n",
              " Synset('run.v.01'),\n",
              " Synset('scat.v.01'),\n",
              " Synset('run.v.03'),\n",
              " Synset('operate.v.01'),\n",
              " Synset('run.v.05'),\n",
              " Synset('run.v.06'),\n",
              " Synset('function.v.01'),\n",
              " Synset('range.v.01'),\n",
              " Synset('campaign.v.01'),\n",
              " Synset('play.v.18'),\n",
              " Synset('run.v.11'),\n",
              " Synset('tend.v.01'),\n",
              " Synset('run.v.13'),\n",
              " Synset('run.v.14'),\n",
              " Synset('run.v.15'),\n",
              " Synset('run.v.16'),\n",
              " Synset('prevail.v.03'),\n",
              " Synset('run.v.18'),\n",
              " Synset('run.v.19'),\n",
              " Synset('carry.v.15'),\n",
              " Synset('run.v.21'),\n",
              " Synset('guide.v.05'),\n",
              " Synset('run.v.23'),\n",
              " Synset('run.v.24'),\n",
              " Synset('run.v.25'),\n",
              " Synset('run.v.26'),\n",
              " Synset('run.v.27'),\n",
              " Synset('run.v.28'),\n",
              " Synset('run.v.29'),\n",
              " Synset('run.v.30'),\n",
              " Synset('run.v.31'),\n",
              " Synset('run.v.32'),\n",
              " Synset('run.v.33'),\n",
              " Synset('run.v.34'),\n",
              " Synset('ply.v.03'),\n",
              " Synset('hunt.v.01'),\n",
              " Synset('race.v.02'),\n",
              " Synset('move.v.13'),\n",
              " Synset('melt.v.01'),\n",
              " Synset('ladder.v.01'),\n",
              " Synset('run.v.41')]"
            ]
          },
          "metadata": {},
          "execution_count": 67
        }
      ]
    },
    {
      "cell_type": "markdown",
      "source": [
        "## Part 6"
      ],
      "metadata": {
        "id": "UuKvvOeJc68B"
      }
    },
    {
      "cell_type": "code",
      "source": [
        "race = wn.synset('race.v.02')\n",
        "print(race.definition())\n",
        "print(race.examples())\n",
        "print(race.lemmas())\n",
        "hyp = lambda s: s.hypernyms()\n",
        "list(race.closure(hyp))"
      ],
      "metadata": {
        "colab": {
          "base_uri": "https://localhost:8080/",
          "height": 0
        },
        "id": "-4lgLOMfc5yU",
        "outputId": "ac002712-a59d-4c71-807b-010944a7ce82"
      },
      "execution_count": 68,
      "outputs": [
        {
          "output_type": "stream",
          "name": "stdout",
          "text": [
            "compete in a race\n",
            "['he is running the Marathon this year', \"let's race and see who gets there first\"]\n",
            "[Lemma('race.v.02.race'), Lemma('race.v.02.run')]\n"
          ]
        },
        {
          "output_type": "execute_result",
          "data": {
            "text/plain": [
              "[Synset('compete.v.01')]"
            ]
          },
          "metadata": {},
          "execution_count": 68
        }
      ]
    },
    {
      "cell_type": "markdown",
      "source": [
        "Verbs to not have a top word, unlike nouns which have 'entity' at the top. Despite this, the general hierarchy applies with more general words at the bottom and less general words at the top."
      ],
      "metadata": {
        "id": "CpKIsXxLftUY"
      }
    },
    {
      "cell_type": "markdown",
      "source": [
        "## Part 7"
      ],
      "metadata": {
        "id": "tnBteWW2hBlu"
      }
    },
    {
      "cell_type": "code",
      "source": [
        "print(wn.morphy('race', wn.ADJ))\n",
        "print(wn.morphy('race'))\n",
        "print(wn.morphy('race', wn.VERB))\n",
        "print(wn.morphy('race', wn.ADV))"
      ],
      "metadata": {
        "colab": {
          "base_uri": "https://localhost:8080/",
          "height": 0
        },
        "id": "SJcHz8rPgzpj",
        "outputId": "bca5a783-2c3b-4925-9e7a-d4c86833fc6e"
      },
      "execution_count": 69,
      "outputs": [
        {
          "output_type": "stream",
          "name": "stdout",
          "text": [
            "None\n",
            "race\n",
            "race\n",
            "None\n"
          ]
        }
      ]
    },
    {
      "cell_type": "markdown",
      "source": [
        "## Part 8"
      ],
      "metadata": {
        "id": "hTLMIonKh4CQ"
      }
    },
    {
      "cell_type": "code",
      "source": [
        "from nltk.wsd import lesk\n",
        "walk = wn.synset('walk.n.01')\n",
        "strut = wn.synset('strut.n.01')\n",
        "print(wn.wup_similarity(walk, strut))\n",
        "sent = \"I decided to walk while Leo decided to strut.\"\n",
        "sentence = [*sent]\n",
        "print(lesk(sentence,'walk'))\n",
        "print(lesk(sentence,'strut'))"
      ],
      "metadata": {
        "colab": {
          "base_uri": "https://localhost:8080/",
          "height": 0
        },
        "id": "X6MMaBXlh6Ui",
        "outputId": "583fdc98-b40f-4ae3-eadb-4187af71c5ac"
      },
      "execution_count": 99,
      "outputs": [
        {
          "output_type": "stream",
          "name": "stdout",
          "text": [
            "0.9090909090909091\n",
            "Synset('walk.v.10')\n",
            "Synset('tittup.v.01')\n"
          ]
        }
      ]
    },
    {
      "cell_type": "markdown",
      "source": [
        "According to the Wo-Palmer similarity metric, walk and strut are 90% similar. In the context sentence, walk is the only word that fits that context, but tittup can be used in place of strut.\n"
      ],
      "metadata": {
        "id": "KudwYtpp2u_B"
      }
    },
    {
      "cell_type": "markdown",
      "source": [
        "## Part 9"
      ],
      "metadata": {
        "id": "Rc5XfdtnnFzf"
      }
    },
    {
      "cell_type": "markdown",
      "source": [
        "SentiWordNet is a resource that is used to analyze whether a word has a positive, negative, or objective connotation. This can help a writer or speaker figure out what words should be used in specific situations. "
      ],
      "metadata": {
        "id": "ttH5SQyanUaV"
      }
    },
    {
      "cell_type": "code",
      "source": [
        "import nltk\n",
        "from nltk.corpus import sentiwordnet as swn\n",
        "\n",
        "scrum = swn.senti_synsets('scrumptious', 'a')\n",
        "for i in scrum:\n",
        "  print(i)"
      ],
      "metadata": {
        "colab": {
          "base_uri": "https://localhost:8080/",
          "height": 0
        },
        "id": "q2M8vWoanZtA",
        "outputId": "574c81e1-4efe-49fb-9b4f-e894e61a0005"
      },
      "execution_count": 80,
      "outputs": [
        {
          "output_type": "stream",
          "name": "stdout",
          "text": [
            "<delectable.s.01: PosScore=0.75 NegScore=0.25>\n"
          ]
        }
      ]
    },
    {
      "cell_type": "markdown",
      "source": [
        "The word scrumptious is a positive word. I'm suprised that it has a noticeable negative score because it is not common for it to be used with negative connotations. "
      ],
      "metadata": {
        "id": "vwalWgrSnXSX"
      }
    },
    {
      "cell_type": "markdown",
      "source": [
        "## Part 10"
      ],
      "metadata": {
        "id": "TiUSmbZLrFM5"
      }
    },
    {
      "cell_type": "markdown",
      "source": [
        "Collocations are words that appear together to form a meaning that is not just the sum of their parts. The example I use will be General Government which refer to the central government rather a government that is just general."
      ],
      "metadata": {
        "id": "dUJ63xpgrIeC"
      }
    },
    {
      "cell_type": "code",
      "source": [
        "import nltk\n",
        "from nltk.book import *\n",
        "print(text4.collocations())\n"
      ],
      "metadata": {
        "colab": {
          "base_uri": "https://localhost:8080/",
          "height": 0
        },
        "id": "t9LDMjNPrM5k",
        "outputId": "b5729087-1663-4d36-89d2-c24a74b86067"
      },
      "execution_count": 94,
      "outputs": [
        {
          "output_type": "stream",
          "name": "stdout",
          "text": [
            "United States; fellow citizens; years ago; four years; Federal\n",
            "Government; General Government; American people; Vice President; God\n",
            "bless; Chief Justice; one another; fellow Americans; Old World;\n",
            "Almighty God; Fellow citizens; Chief Magistrate; every citizen; Indian\n",
            "tribes; public debt; foreign nations\n",
            "None\n"
          ]
        }
      ]
    },
    {
      "cell_type": "code",
      "source": [
        "import math\n",
        "text = ' '.join(text4.tokens)\n",
        "vocab = len(set(text4))\n",
        "gg = text.count('General Government')/vocab\n",
        "gen = text.count('General')/vocab\n",
        "gov = text.count('Government')/vocab\n",
        "pmi = math.log2(gg/(gen*gov))\n",
        "print(pmi)"
      ],
      "metadata": {
        "colab": {
          "base_uri": "https://localhost:8080/",
          "height": 0
        },
        "id": "3vl0ASw4u2Oo",
        "outputId": "295bd6ad-a627-4def-b785-f3ec737e55d8"
      },
      "execution_count": 96,
      "outputs": [
        {
          "output_type": "stream",
          "name": "stdout",
          "text": [
            "4.890435179947461\n"
          ]
        }
      ]
    },
    {
      "cell_type": "markdown",
      "source": [
        "The term 'General Government' has a high amount of mutual information since it the two words have 400% chance of appering together than separately. This means that 'General Government' is most definitely a collocation."
      ],
      "metadata": {
        "id": "6tzpSXeDrKrq"
      }
    }
  ]
}